{
 "cells": [
  {
   "cell_type": "code",
   "execution_count": null,
   "metadata": {},
   "outputs": [],
   "source": [
    "# Load SQL extension\n",
    "%load_ext sql\n",
    "\n",
    "# Connect to SQLite database (this will create a new database if it doesn't exist)\n",
    "%sql sqlite://\n",
    "\n",
    "import pandas as pd\n",
    "import sqlite3\n",
    "\n",
    "# Assuming the uploaded file is named 'your_file.csv'\n",
    "df = pd.read_csv('/content/testdaten.csv',on_bad_lines='warn')\n",
    "\n",
    "conn = sqlite3.connect('my_database.db')\n",
    "df.to_sql('my_table', conn, if_exists='replace', index=False)"
   ]
  }
 ],
 "metadata": {
  "language_info": {
   "name": "python"
  }
 },
 "nbformat": 4,
 "nbformat_minor": 2
}
